{
 "cells": [
  {
   "cell_type": "code",
   "execution_count": 1,
   "metadata": {},
   "outputs": [
    {
     "name": "stderr",
     "output_type": "stream",
     "text": [
      "C:\\Users\\Nuchtu\\AppData\\Local\\Temp\\ipykernel_18256\\3640900120.py:1: DeprecationWarning: The asyncore module is deprecated and will be removed in Python 3.12. The recommended replacement is asyncio\n",
      "  from asyncore import read\n"
     ]
    }
   ],
   "source": [
    "from asyncore import read\n",
    "import numpy as np\n",
    "import pandas as pd\n",
    "from sklearn.preprocessing import StandardScaler"
   ]
  },
  {
   "cell_type": "code",
   "execution_count": 2,
   "metadata": {},
   "outputs": [
    {
     "name": "stdout",
     "output_type": "stream",
     "text": [
      "       X     Y        Z\n",
      "0     19  1927      cat\n",
      "1    NaN  2300      dog\n",
      "2     15   NaN     bird\n",
      "3     16  5959      cat\n",
      "4     16    AB      cat\n",
      "5    NaN  4594      dog\n",
      "6     19  1927      cat\n",
      "7     20  2879  birdËÁÒ\n",
      "8     21   NaN      NaN\n",
      "9      0  4096      cat\n",
      "10     A  6730      cat\n",
      "11    25     0     bird\n",
      "12     0  2792      dog\n",
      "13    33  2575    dog¹¡\n",
      "14  1000  4959     bird\n",
      "15    19  1927      cat\n",
      "16    36  4580      dog\n",
      "17    40  5869      NaN\n",
      "18   NaN  4178      dog\n",
      "19    45   NaN      cat\n"
     ]
    }
   ],
   "source": [
    "rd = pd.read_csv('Data_example.csv', encoding = 'ISO-8859-1')\n",
    "rd = pd.DataFrame(rd)\n",
    "print(rd)"
   ]
  },
  {
   "cell_type": "code",
   "execution_count": 3,
   "metadata": {},
   "outputs": [],
   "source": [
    "rd['X'].replace({r'[a-zA-Z]+':np.nan}, regex = True, inplace  = True)\n",
    "rd['Y'].replace({r'[a-zA-Z]+':np.nan}, regex = True, inplace  = True)\n",
    "rd['Z'].replace({r'[^\\00-\\x7f]+':''}, regex = True, inplace = True)"
   ]
  },
  {
   "cell_type": "code",
   "execution_count": 4,
   "metadata": {},
   "outputs": [
    {
     "name": "stdout",
     "output_type": "stream",
     "text": [
      "<class 'pandas.core.frame.DataFrame'>\n",
      "RangeIndex: 20 entries, 0 to 19\n",
      "Data columns (total 3 columns):\n",
      " #   Column  Non-Null Count  Dtype  \n",
      "---  ------  --------------  -----  \n",
      " 0   X       16 non-null     Int64  \n",
      " 1   Y       16 non-null     Float64\n",
      " 2   Z       18 non-null     string \n",
      "dtypes: Float64(1), Int64(1), string(1)\n",
      "memory usage: 648.0 bytes\n"
     ]
    }
   ],
   "source": [
    "rd = rd.convert_dtypes()\n",
    "rd[\"X\"] = pd.to_numeric(rd[\"X\"], errors = 'coerce')\n",
    "rd[\"Y\"] = pd.to_numeric(rd[\"Y\"], errors = 'coerce')\n",
    "rd[\"X\"] = rd[\"X\"].astype('Int64')\n",
    "rd[\"Y\"] = rd[\"Y\"].astype('Float64')\n",
    "rd.info()"
   ]
  },
  {
   "cell_type": "code",
   "execution_count": 5,
   "metadata": {},
   "outputs": [
    {
     "name": "stdout",
     "output_type": "stream",
     "text": [
      "                 X           Y\n",
      "count    14.000000    14.00000\n",
      "mean     91.857143  3817.00000\n",
      "std     261.717069  1837.61074\n",
      "min       0.000000     0.00000\n",
      "25%      16.000000  2629.25000\n",
      "50%      20.500000  4137.00000\n",
      "75%      35.250000  4867.75000\n",
      "max    1000.000000  6730.00000\n",
      "       X       Y     Z\n",
      "0     19  1927.0   cat\n",
      "1   <NA>  2300.0   dog\n",
      "2     15    <NA>  bird\n",
      "3     16  5959.0   cat\n",
      "4     16    <NA>   cat\n",
      "5   <NA>  4594.0   dog\n",
      "7     20  2879.0  bird\n",
      "8     21    <NA>  <NA>\n",
      "9      0  4096.0   cat\n",
      "10  <NA>  6730.0   cat\n",
      "11    25     0.0  bird\n",
      "12     0  2792.0   dog\n",
      "13    33  2575.0   dog\n",
      "14  1000  4959.0  bird\n",
      "16    36  4580.0   dog\n",
      "17    40  5869.0  <NA>\n",
      "18  <NA>  4178.0   dog\n",
      "19    45    <NA>   cat\n"
     ]
    }
   ],
   "source": [
    "rd.drop_duplicates(inplace = True)\n",
    "print(rd.describe())\n",
    "print(rd)"
   ]
  },
  {
   "cell_type": "code",
   "execution_count": 6,
   "metadata": {},
   "outputs": [
    {
     "name": "stdout",
     "output_type": "stream",
     "text": [
      "         X       Y     Z\n",
      "0     19.0  1927.0   cat\n",
      "1     20.5  2300.0   dog\n",
      "2     15.0  4137.0  bird\n",
      "3     16.0  5959.0   cat\n",
      "4     16.0  4137.0   cat\n",
      "5     20.5  4594.0   dog\n",
      "7     20.0  2879.0  bird\n",
      "8     21.0  4137.0   cat\n",
      "9      0.0  4096.0   cat\n",
      "10    20.5  6730.0   cat\n",
      "11    25.0     0.0  bird\n",
      "12     0.0  2792.0   dog\n",
      "13    33.0  2575.0   dog\n",
      "14  1000.0  4959.0  bird\n",
      "16    36.0  4580.0   dog\n",
      "17    40.0  5869.0   cat\n",
      "18    20.5  4178.0   dog\n",
      "19    45.0  4137.0   cat\n",
      "                X            Y\n",
      "count    18.00000    18.000000\n",
      "mean     76.00000  3888.111111\n",
      "std     230.89175  1612.764338\n",
      "min       0.00000     0.000000\n",
      "25%      16.75000  2813.750000\n",
      "50%      20.50000  4137.000000\n",
      "75%      31.00000  4590.500000\n",
      "max    1000.00000  6730.000000\n"
     ]
    }
   ],
   "source": [
    "rd[\"X\"] = rd[\"X\"].astype('Float64')\n",
    "rd['X'].fillna(rd['X'].median(), inplace = True)\n",
    "rd['Y'].fillna(rd['Y'].median(), inplace = True)\n",
    "rd['Z'].fillna(value = rd['Z'].mode()[0], inplace=True)\n",
    "print(rd)\n",
    "print(rd.describe())"
   ]
  },
  {
   "cell_type": "code",
   "execution_count": 7,
   "metadata": {},
   "outputs": [
    {
     "data": {
      "text/plain": [
       "<AxesSubplot:>"
      ]
     },
     "execution_count": 7,
     "metadata": {},
     "output_type": "execute_result"
    },
    {
     "data": {
      "image/png": "[encoded data removed]",
      "text/plain": [
       "<Figure size 640x480 with 1 Axes>"
      ]
     },
     "metadata": {},
     "output_type": "display_data"
    }
   ],
   "source": [
    "import seaborn as sns\n",
    "sns.boxplot(data=rd)"
   ]
  },
  {
   "cell_type": "code",
   "execution_count": 8,
   "metadata": {},
   "outputs": [
    {
     "name": "stdout",
     "output_type": "stream",
     "text": [
      "           X         Y     Z\n",
      "0  -0.254026 -1.251247   cat\n",
      "1  -0.247341 -1.013262   dog\n",
      "2  -0.271852  0.158798  bird\n",
      "3  -0.267396  1.321289   cat\n",
      "4  -0.267396  0.158798   cat\n",
      "5  -0.247341  0.450378   dog\n",
      "7  -0.249569 -0.643843  bird\n",
      "8  -0.245113  0.158798   cat\n",
      "9  -0.338701  0.132639   cat\n",
      "10 -0.247341  1.813209   cat\n",
      "11 -0.227286 -2.480730  bird\n",
      "12 -0.338701 -0.699351   dog\n",
      "13 -0.191634 -0.837804   dog\n",
      "14  4.117896  0.683259  bird\n",
      "16 -0.178264  0.441446   dog\n",
      "17 -0.160437  1.263866   cat\n",
      "18 -0.247341  0.184958   dog\n",
      "19 -0.138155  0.158798   cat\n"
     ]
    }
   ],
   "source": [
    "df = rd\n",
    "scaler = StandardScaler()\n",
    "df[['X','Y']] = scaler.fit_transform(df[['X','Y']])\n",
    "print(df)"
   ]
  },
  {
   "cell_type": "code",
   "execution_count": 9,
   "metadata": {},
   "outputs": [
    {
     "data": {
      "text/plain": [
       "<AxesSubplot:>"
      ]
     },
     "execution_count": 9,
     "metadata": {},
     "output_type": "execute_result"
    },
    {
     "data": {
      "image/png": "[encoded data removed]",
      "text/plain": [
       "<Figure size 640x480 with 1 Axes>"
      ]
     },
     "metadata": {},
     "output_type": "display_data"
    }
   ],
   "source": [
    "import seaborn as sns\n",
    "sns.boxplot(data=df)"
   ]
  },
  {
   "cell_type": "code",
   "execution_count": null,
   "metadata": {},
   "outputs": [],
   "source": []
  },
  {
   "cell_type": "code",
   "execution_count": 10,
   "metadata": {},
   "outputs": [
    {
     "name": "stdout",
     "output_type": "stream",
     "text": [
      "           X         Y     Z\n",
      "0  -0.254026 -1.251247   cat\n",
      "1  -0.247341 -1.013262   dog\n",
      "2  -0.271852  0.158798  bird\n",
      "3  -0.267396  1.321289   cat\n",
      "4  -0.267396  0.158798   cat\n",
      "5  -0.247341  0.450378   dog\n",
      "7  -0.249569 -0.643843  bird\n",
      "8  -0.245113  0.158798   cat\n",
      "9  -0.338701  0.132639   cat\n",
      "10 -0.247341  1.813209   cat\n",
      "11 -0.227286 -2.480730  bird\n",
      "12 -0.338701 -0.699351   dog\n",
      "13 -0.191634 -0.837804   dog\n",
      "14       NaN  0.683259  bird\n",
      "16 -0.178264  0.441446   dog\n",
      "17 -0.160437  1.263866   cat\n",
      "18 -0.247341  0.184958   dog\n",
      "19 -0.138155  0.158798   cat\n"
     ]
    }
   ],
   "source": [
    "rd.loc[rd['X'] < -3,'X'] = np.nan\n",
    "rd.loc[rd['X'] > 3,'X'] = np.nan\n",
    "rd.loc[rd['Y'] < -3,'Y'] = np.nan\n",
    "rd.loc[rd['Y'] > 3,'Y'] = np.nan\n",
    "print(rd)"
   ]
  },
  {
   "cell_type": "code",
   "execution_count": 11,
   "metadata": {},
   "outputs": [
    {
     "name": "stdout",
     "output_type": "stream",
     "text": [
      "<class 'pandas.core.frame.DataFrame'>\n",
      "Int64Index: 17 entries, 0 to 19\n",
      "Data columns (total 3 columns):\n",
      " #   Column  Non-Null Count  Dtype  \n",
      "---  ------  --------------  -----  \n",
      " 0   X       17 non-null     float64\n",
      " 1   Y       17 non-null     float64\n",
      " 2   Z       17 non-null     string \n",
      "dtypes: float64(2), string(1)\n",
      "memory usage: 544.0 bytes\n",
      "None\n"
     ]
    }
   ],
   "source": [
    "rd.dropna(inplace=True)\n",
    "print(rd.info())"
   ]
  },
  {
   "cell_type": "code",
   "execution_count": 12,
   "metadata": {},
   "outputs": [
    {
     "name": "stdout",
     "output_type": "stream",
     "text": [
      "           X         Y     Z\n",
      "0   0.422222  0.286330   cat\n",
      "1   0.455556  0.341753   dog\n",
      "2   0.333333  0.614710  bird\n",
      "3   0.355556  0.885438   cat\n",
      "4   0.355556  0.614710   cat\n",
      "5   0.455556  0.682615   dog\n",
      "7   0.444444  0.427786  bird\n",
      "8   0.466667  0.614710   cat\n",
      "9   0.000000  0.608618   cat\n",
      "10  0.455556  1.000000   cat\n",
      "11  0.555556  0.000000  bird\n",
      "12  0.000000  0.414859   dog\n",
      "13  0.733333  0.382615   dog\n",
      "16  0.800000  0.680535   dog\n",
      "17  0.888889  0.872065   cat\n",
      "18  0.455556  0.620802   dog\n",
      "19  1.000000  0.614710   cat\n"
     ]
    }
   ],
   "source": [
    "from sklearn.preprocessing import MinMaxScaler\n",
    "scaler = MinMaxScaler()\n",
    "df[['X','Y']] = scaler.fit_transform(df[['X','Y']])\n",
    "print(df)"
   ]
  },
  {
   "cell_type": "code",
   "execution_count": 13,
   "metadata": {},
   "outputs": [
    {
     "data": {
      "text/plain": [
       "<AxesSubplot:>"
      ]
     },
     "execution_count": 13,
     "metadata": {},
     "output_type": "execute_result"
    },
    {
     "data": {
      "image/png": "[encoded data removed]",
      "text/plain": [
       "<Figure size 640x480 with 1 Axes>"
      ]
     },
     "metadata": {},
     "output_type": "display_data"
    }
   ],
   "source": [
    "sns.boxplot(data=rd)"
   ]
  }
 ],
 "metadata": {
  "kernelspec": {
   "display_name": "Python 3.10.6 64-bit",
   "language": "python",
   "name": "python3"
  },
  "language_info": {
   "codemirror_mode": {
    "name": "ipython",
    "version": 3
   },
   "file_extension": ".py",
   "mimetype": "text/x-python",
   "name": "python",
   "nbconvert_exporter": "python",
   "pygments_lexer": "ipython3",
   "version": "3.10.6"
  },
  "orig_nbformat": 4,
  "vscode": {
   "interpreter": {
    "hash": "c63e27dbf4058baa09756b862f12d3996c103635a294c45d4ef23381d89563d2"
   }
  }
 },
 "nbformat": 4,
 "nbformat_minor": 2
}
