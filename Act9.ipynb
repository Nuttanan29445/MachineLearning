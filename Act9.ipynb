{
 "cells": [
  {
   "cell_type": "code",
   "execution_count": 32,
   "metadata": {},
   "outputs": [],
   "source": [
    "import numpy as np\n",
    "import pandas as pd\n",
    "import matplotlib.pyplot as plt\n",
    "from sklearn.preprocessing import StandardScaler\n",
    "from sklearn.model_selection import train_test_split, cross_val_score, StratifiedKFold\n",
    "from sklearn.svm import SVC\n",
    "from sklearn import metrics\n",
    "from sklearn.model_selection import GridSearchCV, RandomizedSearchCV\n",
    "from sklearn.metrics import accuracy_score, classification_report, confusion_matrix\n",
    "import glob\n",
    "from scipy import stats\n",
    "import datetime as dt\n",
    "from sklearn.neural_network import MLPClassifier"
   ]
  },
  {
   "cell_type": "markdown",
   "metadata": {},
   "source": []
  },
  {
   "cell_type": "code",
   "execution_count": 33,
   "metadata": {},
   "outputs": [],
   "source": [
    "ACC   = pd.read_csv('46343_acceleration.txt', sep = ' ',names=['timedelta', 'accX', 'accY', 'accZ'])\n",
    "HeartR = pd.read_csv('46343_heartrate.txt', sep = ',',names=['timedelta', 'heartrate'])\n",
    "SleepL = pd.read_csv('46343_labeled_sleep.txt', sep = ' ',names=['timedelta', 'sleep'])\n"
   ]
  },
  {
   "cell_type": "code",
   "execution_count": 34,
   "metadata": {},
   "outputs": [
    {
     "name": "stdout",
     "output_type": "stream",
     "text": [
      "ACC start: -124489.16105 ACC end: 17643.046417\n",
      "HeartR start: -556410.36066 HeartR end: 16980.47229\n",
      "SleepL start: 0 SLeepL end: 16980\n"
     ]
    }
   ],
   "source": [
    "# Check 'timedelta' max(), min() of ACC, HeartR, SleepL (ช่วงเวลาที่มีข้อมูลใกล้กัน)\n",
    "ACC_max_date = ACC['timedelta'].max()\n",
    "ACC_min_date = ACC['timedelta'].min()\n",
    "# หา start_timedelta, end_timedelta\n",
    "HeartR_max = HeartR['timedelta'].max()\n",
    "HeartR_min = HeartR['timedelta'].min()\n",
    "\n",
    "SleepL_max = SleepL['timedelta'].max()\n",
    "SleepL_min = SleepL['timedelta'].min()\n",
    "\n",
    "print(f'ACC start: {ACC_min_date} ACC end: {ACC_max_date}')\n",
    "print(f'HeartR start: {HeartR_min} HeartR end: {HeartR_max}')\n",
    "print(f'SleepL start: {SleepL_min} SLeepL end: {SleepL_max}')"
   ]
  },
  {
   "cell_type": "code",
   "execution_count": 35,
   "metadata": {},
   "outputs": [],
   "source": [
    " # select only intersected timedelta (ACC, HeartR, SleepL) (ช่วงเวลาที่มีข้อมูลใกล้กัน) #เลือกขอบ\n",
    "ACC_new = ACC[(ACC['timedelta'] > SleepL_min) & (ACC['timedelta'] < SleepL_max)]\n",
    "HeartR_new = HeartR[(HeartR['timedelta']> SleepL_min) & HeartR['timedelta']< SleepL_max]\n",
    "SleepL_new = SleepL[(SleepL['timedelta']> SleepL_min) & SleepL['timedelta']< SleepL_max]"
   ]
  },
  {
   "cell_type": "code",
   "execution_count": 36,
   "metadata": {},
   "outputs": [
    {
     "name": "stderr",
     "output_type": "stream",
     "text": [
      "C:\\Users\\Nuchtu\\AppData\\Local\\Temp\\ipykernel_19420\\862878292.py:1: SettingWithCopyWarning: \n",
      "A value is trying to be set on a copy of a slice from a DataFrame.\n",
      "Try using .loc[row_indexer,col_indexer] = value instead\n",
      "\n",
      "See the caveats in the documentation: https://pandas.pydata.org/pandas-docs/stable/user_guide/indexing.html#returning-a-view-versus-a-copy\n",
      "  ACC_new['timedelta'] = pd.DataFrame(pd.to_timedelta(ACC_new['timedelta'], unit='s').round('1s'))\n"
     ]
    }
   ],
   "source": [
    "ACC_new['timedelta'] = pd.DataFrame(pd.to_timedelta(ACC_new['timedelta'], unit='s').round('1s'))"
   ]
  },
  {
   "cell_type": "code",
   "execution_count": 37,
   "metadata": {},
   "outputs": [
    {
     "data": {
      "text/html": [
       "<div>\n",
       "<style scoped>\n",
       "    .dataframe tbody tr th:only-of-type {\n",
       "        vertical-align: middle;\n",
       "    }\n",
       "\n",
       "    .dataframe tbody tr th {\n",
       "        vertical-align: top;\n",
       "    }\n",
       "\n",
       "    .dataframe thead th {\n",
       "        text-align: right;\n",
       "    }\n",
       "</style>\n",
       "<table border=\"1\" class=\"dataframe\">\n",
       "  <thead>\n",
       "    <tr style=\"text-align: right;\">\n",
       "      <th></th>\n",
       "      <th>timedelta</th>\n",
       "      <th>accX</th>\n",
       "      <th>accY</th>\n",
       "      <th>accZ</th>\n",
       "    </tr>\n",
       "  </thead>\n",
       "  <tbody>\n",
       "    <tr>\n",
       "      <th>0</th>\n",
       "      <td>0 days 00:00:00</td>\n",
       "      <td>-0.243203</td>\n",
       "      <td>0.895372</td>\n",
       "      <td>0.367591</td>\n",
       "    </tr>\n",
       "    <tr>\n",
       "      <th>1</th>\n",
       "      <td>0 days 00:00:01</td>\n",
       "      <td>-0.240757</td>\n",
       "      <td>0.873826</td>\n",
       "      <td>0.415446</td>\n",
       "    </tr>\n",
       "    <tr>\n",
       "      <th>2</th>\n",
       "      <td>0 days 00:00:02</td>\n",
       "      <td>-0.244620</td>\n",
       "      <td>0.883943</td>\n",
       "      <td>0.387026</td>\n",
       "    </tr>\n",
       "    <tr>\n",
       "      <th>3</th>\n",
       "      <td>0 days 00:00:03</td>\n",
       "      <td>-0.248036</td>\n",
       "      <td>0.902427</td>\n",
       "      <td>0.347812</td>\n",
       "    </tr>\n",
       "    <tr>\n",
       "      <th>4</th>\n",
       "      <td>0 days 00:00:04</td>\n",
       "      <td>-0.241778</td>\n",
       "      <td>0.912946</td>\n",
       "      <td>0.321502</td>\n",
       "    </tr>\n",
       "    <tr>\n",
       "      <th>...</th>\n",
       "      <td>...</td>\n",
       "      <td>...</td>\n",
       "      <td>...</td>\n",
       "      <td>...</td>\n",
       "    </tr>\n",
       "    <tr>\n",
       "      <th>16976</th>\n",
       "      <td>0 days 04:42:56</td>\n",
       "      <td>-0.442763</td>\n",
       "      <td>-0.525892</td>\n",
       "      <td>0.722950</td>\n",
       "    </tr>\n",
       "    <tr>\n",
       "      <th>16977</th>\n",
       "      <td>0 days 04:42:57</td>\n",
       "      <td>-0.441990</td>\n",
       "      <td>-0.525476</td>\n",
       "      <td>0.723410</td>\n",
       "    </tr>\n",
       "    <tr>\n",
       "      <th>16978</th>\n",
       "      <td>0 days 04:42:58</td>\n",
       "      <td>-0.441581</td>\n",
       "      <td>-0.525116</td>\n",
       "      <td>0.724003</td>\n",
       "    </tr>\n",
       "    <tr>\n",
       "      <th>16979</th>\n",
       "      <td>0 days 04:42:59</td>\n",
       "      <td>-0.442283</td>\n",
       "      <td>-0.525849</td>\n",
       "      <td>0.723265</td>\n",
       "    </tr>\n",
       "    <tr>\n",
       "      <th>16980</th>\n",
       "      <td>0 days 04:43:00</td>\n",
       "      <td>-0.442674</td>\n",
       "      <td>-0.525962</td>\n",
       "      <td>0.722678</td>\n",
       "    </tr>\n",
       "  </tbody>\n",
       "</table>\n",
       "<p>16981 rows × 4 columns</p>\n",
       "</div>"
      ],
      "text/plain": [
       "            timedelta      accX      accY      accZ\n",
       "0     0 days 00:00:00 -0.243203  0.895372  0.367591\n",
       "1     0 days 00:00:01 -0.240757  0.873826  0.415446\n",
       "2     0 days 00:00:02 -0.244620  0.883943  0.387026\n",
       "3     0 days 00:00:03 -0.248036  0.902427  0.347812\n",
       "4     0 days 00:00:04 -0.241778  0.912946  0.321502\n",
       "...               ...       ...       ...       ...\n",
       "16976 0 days 04:42:56 -0.442763 -0.525892  0.722950\n",
       "16977 0 days 04:42:57 -0.441990 -0.525476  0.723410\n",
       "16978 0 days 04:42:58 -0.441581 -0.525116  0.724003\n",
       "16979 0 days 04:42:59 -0.442283 -0.525849  0.723265\n",
       "16980 0 days 04:43:00 -0.442674 -0.525962  0.722678\n",
       "\n",
       "[16981 rows x 4 columns]"
      ]
     },
     "execution_count": 37,
     "metadata": {},
     "output_type": "execute_result"
    }
   ],
   "source": [
    "# Average rounding duplicated time\n",
    "df_acc_X = ACC_new.groupby('timedelta')['accX'].mean().reset_index()\n",
    "df_acc_Y = ACC_new.groupby('timedelta')['accY'].mean().reset_index()\n",
    "df_acc_Z = ACC_new.groupby('timedelta')['accZ'].mean().reset_index()\n",
    "ACC = pd.concat([df_acc_X, df_acc_Y, df_acc_Z], axis=1)\n",
    "ACC = ACC.loc[:,~ACC.columns.duplicated()].copy() #ตัด duplicate columns(timedelta)\n",
    "ACC"
   ]
  },
  {
   "cell_type": "code",
   "execution_count": 38,
   "metadata": {},
   "outputs": [],
   "source": [
    "# ------------ Rounding Heart Rate (Rounding to 1 sec) -------------------------------\n",
    "HeartR_new['timedelta'] = pd.DataFrame(pd.to_timedelta(HeartR_new['timedelta'],unit='s').round('1s'))"
   ]
  },
  {
   "cell_type": "code",
   "execution_count": 39,
   "metadata": {},
   "outputs": [],
   "source": [
    "# Resampling every 1s with median with ffill\n",
    "resample_rule = '1s'\n",
    "HeartR_new2 = HeartR_new.set_index('timedelta').resample(resample_rule,).median().ffill()"
   ]
  },
  {
   "cell_type": "code",
   "execution_count": 40,
   "metadata": {},
   "outputs": [],
   "source": [
    "# ------------ Rounding Sleep Label (Rounding to 1 sec) -------------------------------\n",
    "SleepL_new['timedelta'] = pd.DataFrame(pd.to_timedelta(SleepL_new['timedelta'],unit='s').round('1s'))"
   ]
  },
  {
   "cell_type": "code",
   "execution_count": 41,
   "metadata": {},
   "outputs": [
    {
     "data": {
      "text/html": [
       "<div>\n",
       "<style scoped>\n",
       "    .dataframe tbody tr th:only-of-type {\n",
       "        vertical-align: middle;\n",
       "    }\n",
       "\n",
       "    .dataframe tbody tr th {\n",
       "        vertical-align: top;\n",
       "    }\n",
       "\n",
       "    .dataframe thead th {\n",
       "        text-align: right;\n",
       "    }\n",
       "</style>\n",
       "<table border=\"1\" class=\"dataframe\">\n",
       "  <thead>\n",
       "    <tr style=\"text-align: right;\">\n",
       "      <th></th>\n",
       "      <th>sleep</th>\n",
       "    </tr>\n",
       "    <tr>\n",
       "      <th>timedelta</th>\n",
       "      <th></th>\n",
       "    </tr>\n",
       "  </thead>\n",
       "  <tbody>\n",
       "    <tr>\n",
       "      <th>0 days 00:00:00</th>\n",
       "      <td>-1.0</td>\n",
       "    </tr>\n",
       "    <tr>\n",
       "      <th>0 days 00:00:01</th>\n",
       "      <td>-1.0</td>\n",
       "    </tr>\n",
       "    <tr>\n",
       "      <th>0 days 00:00:02</th>\n",
       "      <td>-1.0</td>\n",
       "    </tr>\n",
       "    <tr>\n",
       "      <th>0 days 00:00:03</th>\n",
       "      <td>-1.0</td>\n",
       "    </tr>\n",
       "    <tr>\n",
       "      <th>0 days 00:00:04</th>\n",
       "      <td>-1.0</td>\n",
       "    </tr>\n",
       "    <tr>\n",
       "      <th>...</th>\n",
       "      <td>...</td>\n",
       "    </tr>\n",
       "    <tr>\n",
       "      <th>0 days 04:42:56</th>\n",
       "      <td>0.0</td>\n",
       "    </tr>\n",
       "    <tr>\n",
       "      <th>0 days 04:42:57</th>\n",
       "      <td>0.0</td>\n",
       "    </tr>\n",
       "    <tr>\n",
       "      <th>0 days 04:42:58</th>\n",
       "      <td>0.0</td>\n",
       "    </tr>\n",
       "    <tr>\n",
       "      <th>0 days 04:42:59</th>\n",
       "      <td>0.0</td>\n",
       "    </tr>\n",
       "    <tr>\n",
       "      <th>0 days 04:43:00</th>\n",
       "      <td>0.0</td>\n",
       "    </tr>\n",
       "  </tbody>\n",
       "</table>\n",
       "<p>16981 rows × 1 columns</p>\n",
       "</div>"
      ],
      "text/plain": [
       "                 sleep\n",
       "timedelta             \n",
       "0 days 00:00:00   -1.0\n",
       "0 days 00:00:01   -1.0\n",
       "0 days 00:00:02   -1.0\n",
       "0 days 00:00:03   -1.0\n",
       "0 days 00:00:04   -1.0\n",
       "...                ...\n",
       "0 days 04:42:56    0.0\n",
       "0 days 04:42:57    0.0\n",
       "0 days 04:42:58    0.0\n",
       "0 days 04:42:59    0.0\n",
       "0 days 04:43:00    0.0\n",
       "\n",
       "[16981 rows x 1 columns]"
      ]
     },
     "execution_count": 41,
     "metadata": {},
     "output_type": "execute_result"
    }
   ],
   "source": [
    "#Resampling every 1s with median with ffill\n",
    "resample_rule = '1s'\n",
    "SleepL_new2 = SleepL_new.set_index('timedelta').resample(resample_rule,).median().ffill()\n",
    "SleepL_new2\n"
   ]
  },
  {
   "cell_type": "code",
   "execution_count": 42,
   "metadata": {},
   "outputs": [
    {
     "data": {
      "text/html": [
       "<div>\n",
       "<style scoped>\n",
       "    .dataframe tbody tr th:only-of-type {\n",
       "        vertical-align: middle;\n",
       "    }\n",
       "\n",
       "    .dataframe tbody tr th {\n",
       "        vertical-align: top;\n",
       "    }\n",
       "\n",
       "    .dataframe thead th {\n",
       "        text-align: right;\n",
       "    }\n",
       "</style>\n",
       "<table border=\"1\" class=\"dataframe\">\n",
       "  <thead>\n",
       "    <tr style=\"text-align: right;\">\n",
       "      <th></th>\n",
       "      <th>sleep</th>\n",
       "    </tr>\n",
       "    <tr>\n",
       "      <th>timedelta</th>\n",
       "      <th></th>\n",
       "    </tr>\n",
       "  </thead>\n",
       "  <tbody>\n",
       "    <tr>\n",
       "      <th>0 days 00:00:00</th>\n",
       "      <td>0.0</td>\n",
       "    </tr>\n",
       "    <tr>\n",
       "      <th>0 days 00:00:01</th>\n",
       "      <td>0.0</td>\n",
       "    </tr>\n",
       "    <tr>\n",
       "      <th>0 days 00:00:02</th>\n",
       "      <td>0.0</td>\n",
       "    </tr>\n",
       "    <tr>\n",
       "      <th>0 days 00:00:03</th>\n",
       "      <td>0.0</td>\n",
       "    </tr>\n",
       "    <tr>\n",
       "      <th>0 days 00:00:04</th>\n",
       "      <td>0.0</td>\n",
       "    </tr>\n",
       "    <tr>\n",
       "      <th>...</th>\n",
       "      <td>...</td>\n",
       "    </tr>\n",
       "    <tr>\n",
       "      <th>0 days 04:42:56</th>\n",
       "      <td>0.0</td>\n",
       "    </tr>\n",
       "    <tr>\n",
       "      <th>0 days 04:42:57</th>\n",
       "      <td>0.0</td>\n",
       "    </tr>\n",
       "    <tr>\n",
       "      <th>0 days 04:42:58</th>\n",
       "      <td>0.0</td>\n",
       "    </tr>\n",
       "    <tr>\n",
       "      <th>0 days 04:42:59</th>\n",
       "      <td>0.0</td>\n",
       "    </tr>\n",
       "    <tr>\n",
       "      <th>0 days 04:43:00</th>\n",
       "      <td>0.0</td>\n",
       "    </tr>\n",
       "  </tbody>\n",
       "</table>\n",
       "<p>16981 rows × 1 columns</p>\n",
       "</div>"
      ],
      "text/plain": [
       "                 sleep\n",
       "timedelta             \n",
       "0 days 00:00:00    0.0\n",
       "0 days 00:00:01    0.0\n",
       "0 days 00:00:02    0.0\n",
       "0 days 00:00:03    0.0\n",
       "0 days 00:00:04    0.0\n",
       "...                ...\n",
       "0 days 04:42:56    0.0\n",
       "0 days 04:42:57    0.0\n",
       "0 days 04:42:58    0.0\n",
       "0 days 04:42:59    0.0\n",
       "0 days 04:43:00    0.0\n",
       "\n",
       "[16981 rows x 1 columns]"
      ]
     },
     "execution_count": 42,
     "metadata": {},
     "output_type": "execute_result"
    }
   ],
   "source": [
    "SleepL_new2.replace({-1:0},inplace=True)\n",
    "SleepL_new2"
   ]
  },
  {
   "cell_type": "code",
   "execution_count": 43,
   "metadata": {},
   "outputs": [],
   "source": [
    "# ------------Merge All Data -------------------------------\n",
    "df = []\n",
    "df = pd.merge_asof(ACC, HeartR_new2, on='timedelta')\n",
    "df = pd.merge_asof(df, SleepL_new2, on = 'timedelta')"
   ]
  },
  {
   "cell_type": "code",
   "execution_count": 44,
   "metadata": {},
   "outputs": [],
   "source": [
    "# Fill NA\n",
    "# Heart rate\n",
    "# Fillna() # using median()\n",
    "heart_mean = df.heartrate.mean()\n",
    "df.heartrate.fillna(heart_mean,inplace=True)\n",
    "# # Sleep Label\n",
    "# Fillna() # with 0\n",
    "df.sleep.fillna(0,inplace=True)\n",
    "# # Drop column\n",
    "df.drop(columns='timedelta',inplace=True)"
   ]
  },
  {
   "cell_type": "code",
   "execution_count": 45,
   "metadata": {},
   "outputs": [
    {
     "data": {
      "text/html": [
       "<div>\n",
       "<style scoped>\n",
       "    .dataframe tbody tr th:only-of-type {\n",
       "        vertical-align: middle;\n",
       "    }\n",
       "\n",
       "    .dataframe tbody tr th {\n",
       "        vertical-align: top;\n",
       "    }\n",
       "\n",
       "    .dataframe thead th {\n",
       "        text-align: right;\n",
       "    }\n",
       "</style>\n",
       "<table border=\"1\" class=\"dataframe\">\n",
       "  <thead>\n",
       "    <tr style=\"text-align: right;\">\n",
       "      <th></th>\n",
       "      <th>accX</th>\n",
       "      <th>accY</th>\n",
       "      <th>accZ</th>\n",
       "      <th>heartrate</th>\n",
       "    </tr>\n",
       "  </thead>\n",
       "  <tbody>\n",
       "    <tr>\n",
       "      <th>0</th>\n",
       "      <td>-0.587547</td>\n",
       "      <td>3.058075</td>\n",
       "      <td>0.698728</td>\n",
       "      <td>0.788122</td>\n",
       "    </tr>\n",
       "    <tr>\n",
       "      <th>1</th>\n",
       "      <td>-0.581456</td>\n",
       "      <td>2.995094</td>\n",
       "      <td>0.757746</td>\n",
       "      <td>0.788122</td>\n",
       "    </tr>\n",
       "    <tr>\n",
       "      <th>2</th>\n",
       "      <td>-0.591075</td>\n",
       "      <td>3.024668</td>\n",
       "      <td>0.722696</td>\n",
       "      <td>0.788122</td>\n",
       "    </tr>\n",
       "    <tr>\n",
       "      <th>3</th>\n",
       "      <td>-0.599581</td>\n",
       "      <td>3.078699</td>\n",
       "      <td>0.674335</td>\n",
       "      <td>0.788122</td>\n",
       "    </tr>\n",
       "    <tr>\n",
       "      <th>4</th>\n",
       "      <td>-0.583998</td>\n",
       "      <td>3.109450</td>\n",
       "      <td>0.641889</td>\n",
       "      <td>0.788122</td>\n",
       "    </tr>\n",
       "    <tr>\n",
       "      <th>...</th>\n",
       "      <td>...</td>\n",
       "      <td>...</td>\n",
       "      <td>...</td>\n",
       "      <td>...</td>\n",
       "    </tr>\n",
       "    <tr>\n",
       "      <th>16976</th>\n",
       "      <td>-1.084456</td>\n",
       "      <td>-1.096565</td>\n",
       "      <td>1.136974</td>\n",
       "      <td>-0.630659</td>\n",
       "    </tr>\n",
       "    <tr>\n",
       "      <th>16977</th>\n",
       "      <td>-1.082531</td>\n",
       "      <td>-1.095348</td>\n",
       "      <td>1.137542</td>\n",
       "      <td>-0.630659</td>\n",
       "    </tr>\n",
       "    <tr>\n",
       "      <th>16978</th>\n",
       "      <td>-1.081511</td>\n",
       "      <td>-1.094296</td>\n",
       "      <td>1.138273</td>\n",
       "      <td>-0.630659</td>\n",
       "    </tr>\n",
       "    <tr>\n",
       "      <th>16979</th>\n",
       "      <td>-1.083260</td>\n",
       "      <td>-1.096440</td>\n",
       "      <td>1.137363</td>\n",
       "      <td>-0.630659</td>\n",
       "    </tr>\n",
       "    <tr>\n",
       "      <th>16980</th>\n",
       "      <td>-1.084234</td>\n",
       "      <td>-1.096769</td>\n",
       "      <td>1.136639</td>\n",
       "      <td>-0.759639</td>\n",
       "    </tr>\n",
       "  </tbody>\n",
       "</table>\n",
       "<p>16981 rows × 4 columns</p>\n",
       "</div>"
      ],
      "text/plain": [
       "           accX      accY      accZ  heartrate\n",
       "0     -0.587547  3.058075  0.698728   0.788122\n",
       "1     -0.581456  2.995094  0.757746   0.788122\n",
       "2     -0.591075  3.024668  0.722696   0.788122\n",
       "3     -0.599581  3.078699  0.674335   0.788122\n",
       "4     -0.583998  3.109450  0.641889   0.788122\n",
       "...         ...       ...       ...        ...\n",
       "16976 -1.084456 -1.096565  1.136974  -0.630659\n",
       "16977 -1.082531 -1.095348  1.137542  -0.630659\n",
       "16978 -1.081511 -1.094296  1.138273  -0.630659\n",
       "16979 -1.083260 -1.096440  1.137363  -0.630659\n",
       "16980 -1.084234 -1.096769  1.136639  -0.759639\n",
       "\n",
       "[16981 rows x 4 columns]"
      ]
     },
     "execution_count": 45,
     "metadata": {},
     "output_type": "execute_result"
    }
   ],
   "source": [
    "#Standardized data\n",
    "feature_columns = ['accX', 'accY', 'accZ', 'heartrate']\n",
    "label_columns = ['sleep']\n",
    "standard_scaler = StandardScaler()\n",
    "df[feature_columns] = standard_scaler.fit_transform(df[feature_columns])\n",
    "\n",
    "df_feature = df[feature_columns]\n",
    "df_label = df[label_columns]\n",
    "df_feature"
   ]
  },
  {
   "cell_type": "code",
   "execution_count": 46,
   "metadata": {},
   "outputs": [
    {
     "data": {
      "text/plain": [
       "[<matplotlib.lines.Line2D at 0x21b946f62c0>,\n",
       " <matplotlib.lines.Line2D at 0x21b946f6320>,\n",
       " <matplotlib.lines.Line2D at 0x21b946f6440>,\n",
       " <matplotlib.lines.Line2D at 0x21b946f6560>]"
      ]
     },
     "execution_count": 46,
     "metadata": {},
     "output_type": "execute_result"
    },
    {
     "data": {
      "image/png": "[encoded data removed]",
      "text/plain": [
       "<Figure size 640x480 with 1 Axes>"
      ]
     },
     "metadata": {},
     "output_type": "display_data"
    }
   ],
   "source": [
    "plt.plot([int(i) for i in range(len(df[feature_columns]))],df_feature)"
   ]
  },
  {
   "cell_type": "code",
   "execution_count": 47,
   "metadata": {},
   "outputs": [
    {
     "data": {
      "text/plain": [
       "[<matplotlib.lines.Line2D at 0x21b9476e890>]"
      ]
     },
     "execution_count": 47,
     "metadata": {},
     "output_type": "execute_result"
    },
    {
     "data": {
      "image/png": "[encoded data removed]",
      "text/plain": [
       "<Figure size 640x480 with 1 Axes>"
      ]
     },
     "metadata": {},
     "output_type": "display_data"
    }
   ],
   "source": [
    "plt.plot([int(i) for i in range(len(df.heartrate))],df_label.sleep)"
   ]
  },
  {
   "cell_type": "markdown",
   "metadata": {},
   "source": [
    "### Create 3d Input"
   ]
  },
  {
   "cell_type": "code",
   "execution_count": 48,
   "metadata": {},
   "outputs": [
    {
     "name": "stderr",
     "output_type": "stream",
     "text": [
      "C:\\Users\\Nuchtu\\AppData\\Local\\Temp\\ipykernel_19420\\1445178077.py:11: FutureWarning: Unlike other reduction functions (e.g. `skew`, `kurtosis`), the default behavior of `mode` typically preserves the axis it acts along. In SciPy 1.11.0, this behavior will change: the default value of `keepdims` will become False, the `axis` over which the statistic is taken will be eliminated, and the value None will no longer be accepted. Set `keepdims` to True or False to avoid this warning.\n",
      "  Labels = stats.mode(df_label[t : t+slidingW])\n"
     ]
    },
    {
     "name": "stdout",
     "output_type": "stream",
     "text": [
      "[[[[-0.58754699]\n",
      "   [ 3.05807519]\n",
      "   [ 0.69872824]\n",
      "   [ 0.78812242]]\n",
      "\n",
      "  [[-0.58145574]\n",
      "   [ 2.99509378]\n",
      "   [ 0.75774575]\n",
      "   [ 0.78812242]]\n",
      "\n",
      "  [[-0.59107524]\n",
      "   [ 3.02466836]\n",
      "   [ 0.72269623]\n",
      "   [ 0.78812242]]\n",
      "\n",
      "  ...\n",
      "\n",
      "  [[-0.92104538]\n",
      "   [ 3.14574551]\n",
      "   [ 0.23209668]\n",
      "   [ 0.40118204]]\n",
      "\n",
      "  [[-0.91866235]\n",
      "   [ 3.14714076]\n",
      "   [ 0.23126907]\n",
      "   [ 0.40118204]]\n",
      "\n",
      "  [[-0.90930807]\n",
      "   [ 3.15256736]\n",
      "   [ 0.23283358]\n",
      "   [ 0.14322179]]]\n",
      "\n",
      "\n",
      " [[[-0.63079638]\n",
      "   [ 3.06967162]\n",
      "   [ 0.66802186]\n",
      "   [ 0.78812242]]\n",
      "\n",
      "  [[-0.65623081]\n",
      "   [ 3.03358303]\n",
      "   [ 0.6929944 ]\n",
      "   [ 0.78812242]]\n",
      "\n",
      "  [[-0.61745949]\n",
      "   [ 3.04996268]\n",
      "   [ 0.70392346]\n",
      "   [ 0.78812242]]\n",
      "\n",
      "  ...\n",
      "\n",
      "  [[-0.92642696]\n",
      "   [ 3.14347961]\n",
      "   [ 0.2498879 ]\n",
      "   [ 0.27220192]]\n",
      "\n",
      "  [[-0.92573315]\n",
      "   [ 3.14479812]\n",
      "   [ 0.24662261]\n",
      "   [ 0.27220192]]\n",
      "\n",
      "  [[-0.92884721]\n",
      "   [ 3.14333154]\n",
      "   [ 0.24502384]\n",
      "   [ 0.27220192]]]\n",
      "\n",
      "\n",
      " [[[-0.63628057]\n",
      "   [ 3.0250707 ]\n",
      "   [ 0.71564591]\n",
      "   [ 2.07792367]]\n",
      "\n",
      "  [[-0.62761322]\n",
      "   [ 3.01867796]\n",
      "   [ 0.73035476]\n",
      "   [ 2.07792367]]\n",
      "\n",
      "  [[-0.57525196]\n",
      "   [ 3.01737999]\n",
      "   [ 0.71955327]\n",
      "   [ 2.07792367]]\n",
      "\n",
      "  ...\n",
      "\n",
      "  [[-0.94121296]\n",
      "   [ 3.13656413]\n",
      "   [ 0.25052318]\n",
      "   [ 0.27220192]]\n",
      "\n",
      "  [[-0.93930714]\n",
      "   [ 3.14278647]\n",
      "   [ 0.25643917]\n",
      "   [ 0.27220192]]\n",
      "\n",
      "  [[-0.95057638]\n",
      "   [ 3.12620338]\n",
      "   [ 0.28615041]\n",
      "   [ 0.27220192]]]\n",
      "\n",
      "\n",
      " ...\n",
      "\n",
      "\n",
      " [[[-1.08102654]\n",
      "   [-1.09954191]\n",
      "   [ 1.13738879]\n",
      "   [-0.63065896]]\n",
      "\n",
      "  [[-1.08085481]\n",
      "   [-1.10037689]\n",
      "   [ 1.13740422]\n",
      "   [-0.63065896]]\n",
      "\n",
      "  [[-1.07976284]\n",
      "   [-1.09760338]\n",
      "   [ 1.13807338]\n",
      "   [-0.63065896]]\n",
      "\n",
      "  ...\n",
      "\n",
      "  [[-1.08372875]\n",
      "   [-1.0964053 ]\n",
      "   [ 1.13772148]\n",
      "   [-0.88861921]]\n",
      "\n",
      "  [[-1.0837789 ]\n",
      "   [-1.09655605]\n",
      "   [ 1.13742264]\n",
      "   [-0.88861921]]\n",
      "\n",
      "  [[-1.0818642 ]\n",
      "   [-1.09432701]\n",
      "   [ 1.13831963]\n",
      "   [-0.88861921]]]\n",
      "\n",
      "\n",
      " [[[-1.08000604]\n",
      "   [-1.09858737]\n",
      "   [ 1.13778546]\n",
      "   [-0.63065896]]\n",
      "\n",
      "  [[-1.08078111]\n",
      "   [-1.09954548]\n",
      "   [ 1.13725818]\n",
      "   [-0.63065896]]\n",
      "\n",
      "  [[-1.08133812]\n",
      "   [-1.09961152]\n",
      "   [ 1.13684758]\n",
      "   [-0.75963909]]\n",
      "\n",
      "  ...\n",
      "\n",
      "  [[-1.08360564]\n",
      "   [-1.09678534]\n",
      "   [ 1.13765073]\n",
      "   [-0.75963909]]\n",
      "\n",
      "  [[-1.08279787]\n",
      "   [-1.09606186]\n",
      "   [ 1.13778283]\n",
      "   [-0.75963909]]\n",
      "\n",
      "  [[-1.08146043]\n",
      "   [-1.09521792]\n",
      "   [ 1.13832478]\n",
      "   [-0.75963909]]]\n",
      "\n",
      "\n",
      " [[[-1.08131455]\n",
      "   [-1.09931979]\n",
      "   [ 1.13702861]\n",
      "   [-0.75963909]]\n",
      "\n",
      "  [[-1.08223933]\n",
      "   [-1.09935726]\n",
      "   [ 1.13657961]\n",
      "   [-0.75963909]]\n",
      "\n",
      "  [[-1.08022032]\n",
      "   [-1.09885413]\n",
      "   [ 1.1373534 ]\n",
      "   [-0.75963909]]\n",
      "\n",
      "  ...\n",
      "\n",
      "  [[-1.08253116]\n",
      "   [-1.09534817]\n",
      "   [ 1.13754233]\n",
      "   [-0.63065896]]\n",
      "\n",
      "  [[-1.08151136]\n",
      "   [-1.0942955 ]\n",
      "   [ 1.13827323]\n",
      "   [-0.63065896]]\n",
      "\n",
      "  [[-1.08325986]\n",
      "   [-1.09644011]\n",
      "   [ 1.13736319]\n",
      "   [-0.63065896]]]]\n"
     ]
    }
   ],
   "source": [
    "# # ------------ 1D to 3D feature-------------------------------\n",
    "# # set sliding window parameter\n",
    "slidingW = 100\n",
    "n_feature =4\n",
    "stride_step = 5\n",
    "df_feature3D = []\n",
    "df_label_new = np.array([])                                         \n",
    "for t in range( 0 , len(df_feature)-96, stride_step):     \n",
    "    F3d= df_feature[t:t+ slidingW]                        \n",
    "    df_feature3D.append(np.array(F3d)) \n",
    "    Labels = stats.mode(df_label[t : t+slidingW])\n",
    "    df_label_new = np.append(df_label_new,Labels[0])\n",
    "df_feature3D = np.array(df_feature3D).reshape(len(df_feature3D),slidingW,n_feature,1)\n",
    "print(df_feature3D)\n"
   ]
  },
  {
   "cell_type": "code",
   "execution_count": 49,
   "metadata": {},
   "outputs": [],
   "source": [
    "X_train, X_test, y_train, y_test = train_test_split(df_feature, df_label)"
   ]
  },
  {
   "cell_type": "code",
   "execution_count": 50,
   "metadata": {},
   "outputs": [],
   "source": [
    "# ------------ Train-Test-Split 3D features -------------------------------\n",
    "x3D_train, x3D_test, y3D_train, y3D_test = train_test_split( df_feature3D , df_label_new)"
   ]
  },
  {
   "cell_type": "markdown",
   "metadata": {},
   "source": [
    "### NN Model Train Test"
   ]
  },
  {
   "cell_type": "code",
   "execution_count": 51,
   "metadata": {},
   "outputs": [
    {
     "name": "stderr",
     "output_type": "stream",
     "text": [
      "c:\\Users\\Nuchtu\\AppData\\Local\\Programs\\Python\\Python310\\lib\\site-packages\\sklearn\\neural_network\\_multilayer_perceptron.py:702: ConvergenceWarning: Stochastic Optimizer: Maximum iterations (200) reached and the optimization hasn't converged yet.\n",
      "  warnings.warn(\n"
     ]
    }
   ],
   "source": [
    "# ------------ NN Architecture parameter -------------------------------\n",
    "Hidden_Layer_param = (30, 30, 30) \n",
    "mlp = MLPClassifier(hidden_layer_sizes = Hidden_Layer_param)\n",
    "# # ------------ Training NN using 1D features -------------------------------"
   ]
  },
  {
   "cell_type": "code",
   "execution_count": 52,
   "metadata": {},
   "outputs": [
    {
     "name": "stderr",
     "output_type": "stream",
     "text": [
      "c:\\Users\\Nuchtu\\AppData\\Local\\Programs\\Python\\Python310\\lib\\site-packages\\sklearn\\neural_network\\_multilayer_perceptron.py:702: ConvergenceWarning: Stochastic Optimizer: Maximum iterations (200) reached and the optimization hasn't converged yet.\n",
      "  warnings.warn(\n"
     ]
    }
   ],
   "source": [
    "# ------------ Training NN using 1D features -------------------------------\n",
    "mlp.fit(X_train,y_train)\n",
    "mlp_pred = mlp.predict(X_test)"
   ]
  },
  {
   "cell_type": "code",
   "execution_count": 53,
   "metadata": {},
   "outputs": [
    {
     "name": "stdout",
     "output_type": "stream",
     "text": [
      "----- Confusion matrix of NN -----\n",
      "[[ 630   19   63   16    2]\n",
      " [  27  118   86    4    8]\n",
      " [  20   48 1107   70   30]\n",
      " [   4    0   55 1085    1]\n",
      " [   1    0   21    0  831]]\n",
      "----- Classification matrix of NN -----\n",
      "              precision    recall  f1-score   support\n",
      "\n",
      "         0.0       0.92      0.86      0.89       730\n",
      "         1.0       0.64      0.49      0.55       243\n",
      "         2.0       0.83      0.87      0.85      1275\n",
      "         3.0       0.92      0.95      0.94      1145\n",
      "         5.0       0.95      0.97      0.96       853\n",
      "\n",
      "    accuracy                           0.89      4246\n",
      "   macro avg       0.85      0.83      0.84      4246\n",
      "weighted avg       0.89      0.89      0.89      4246\n",
      "\n"
     ]
    }
   ],
   "source": [
    "print('----- Confusion matrix of NN -----')\n",
    "print(confusion_matrix(y_test,mlp_pred))\n",
    "print('----- Classification matrix of NN -----')\n",
    "print(classification_report(y_test,mlp_pred))"
   ]
  },
  {
   "cell_type": "markdown",
   "metadata": {},
   "source": [
    "### CNN"
   ]
  },
  {
   "cell_type": "code",
   "execution_count": 54,
   "metadata": {},
   "outputs": [],
   "source": [
    "# ------------ CNN Architecture parameter -------------------------------\n",
    "# Nlayer (CNN, dense), Nnode, Activation\n",
    "CNN_L1 = 16\n",
    "CNN_L2 = 64\n",
    "CNN_L3 = 128\n",
    "D_L1 = 512\n",
    "D_out = 6\n",
    "Activation = 'relu'\n",
    "Ker_size = (3,3)\n",
    "Pooling_size = (2,1)\n",
    "Input_shape = (slidingW, n_feature, 1)"
   ]
  },
  {
   "cell_type": "code",
   "execution_count": 55,
   "metadata": {},
   "outputs": [
    {
     "name": "stdout",
     "output_type": "stream",
     "text": [
      "Model: \"sequential_1\"\n",
      "_________________________________________________________________\n",
      " Layer (type)                Output Shape              Param #   \n",
      "=================================================================\n",
      " conv2d_3 (Conv2D)           (None, 100, 4, 16)        160       \n",
      "                                                                 \n",
      " max_pooling2d_3 (MaxPooling  (None, 50, 4, 16)        0         \n",
      " 2D)                                                             \n",
      "                                                                 \n",
      " dropout_3 (Dropout)         (None, 50, 4, 16)         0         \n",
      "                                                                 \n",
      " conv2d_4 (Conv2D)           (None, 50, 4, 64)         9280      \n",
      "                                                                 \n",
      " max_pooling2d_4 (MaxPooling  (None, 25, 4, 64)        0         \n",
      " 2D)                                                             \n",
      "                                                                 \n",
      " dropout_4 (Dropout)         (None, 25, 4, 64)         0         \n",
      "                                                                 \n",
      " conv2d_5 (Conv2D)           (None, 25, 4, 128)        73856     \n",
      "                                                                 \n",
      " max_pooling2d_5 (MaxPooling  (None, 12, 4, 128)       0         \n",
      " 2D)                                                             \n",
      "                                                                 \n",
      " dropout_5 (Dropout)         (None, 12, 4, 128)        0         \n",
      "                                                                 \n",
      " flatten_1 (Flatten)         (None, 6144)              0         \n",
      "                                                                 \n",
      " dense_2 (Dense)             (None, 512)               3146240   \n",
      "                                                                 \n",
      " dense_3 (Dense)             (None, 6)                 3078      \n",
      "                                                                 \n",
      "=================================================================\n",
      "Total params: 3,232,614\n",
      "Trainable params: 3,232,614\n",
      "Non-trainable params: 0\n",
      "_________________________________________________________________\n"
     ]
    }
   ],
   "source": [
    "from tensorflow.keras.regularizers import l1,l2,l1_l2\n",
    "from tensorflow.keras import Sequential\n",
    "from tensorflow.keras.layers import MaxPooling2D,Dropout,Flatten,Dense,Conv2D\n",
    "import tensorflow as tf\n",
    "# ------------ Create CNN Model -------------------------------\n",
    "model = Sequential()\n",
    " # ------------ Create CNN Model -------------------------------\n",
    "model.add(Conv2D(CNN_L1, kernel_size=Ker_size, activation=Activation,input_shape=Input_shape,padding='same'))\n",
    "model.add(MaxPooling2D(pool_size=Pooling_size)) \n",
    "model.add(Dropout(0.4)) \n",
    "model.add(Conv2D(CNN_L2, kernel_size=Ker_size, activation= Activation, padding='same'))\n",
    "model.add(MaxPooling2D(pool_size= Pooling_size))\n",
    "model.add(Dropout(0.4))\n",
    "model.add(Conv2D(CNN_L3, kernel_size=Ker_size, activation= Activation, padding='same'))\n",
    "model.add(MaxPooling2D(pool_size= Pooling_size))\n",
    "model.add(Dropout(0.4))\n",
    "model.add(Flatten())  \n",
    "model.add(Dense(D_L1 , activation= Activation )) \n",
    "model.add(Dense(D_out, activation='sigmoid')) \n",
    "model.compile(optimizer='adam', metrics=['accuracy'])\n",
    "model.summary()"
   ]
  },
  {
   "cell_type": "code",
   "execution_count": 56,
   "metadata": {},
   "outputs": [],
   "source": [
    "model.compile(optimizer='adam',loss= tf.keras.losses.SparseCategoricalCrossentropy(from_logits=True),metrics=[\"acc\"])"
   ]
  },
  {
   "cell_type": "code",
   "execution_count": 57,
   "metadata": {},
   "outputs": [
    {
     "name": "stdout",
     "output_type": "stream",
     "text": [
      "Epoch 1/50\n"
     ]
    },
    {
     "name": "stderr",
     "output_type": "stream",
     "text": [
      "c:\\Users\\Nuchtu\\AppData\\Local\\Programs\\Python\\Python310\\lib\\site-packages\\keras\\backend.py:5582: UserWarning: \"`sparse_categorical_crossentropy` received `from_logits=True`, but the `output` argument was produced by a Softmax activation and thus does not represent logits. Was this intended?\n",
      "  output, from_logits = _get_logits(\n"
     ]
    },
    {
     "name": "stdout",
     "output_type": "stream",
     "text": [
      "40/40 [==============================] - 4s 93ms/step - loss: 1.1145 - acc: 0.5478 - val_loss: 0.7795 - val_acc: 0.6793\n",
      "Epoch 2/50\n",
      "40/40 [==============================] - 3s 87ms/step - loss: 0.6183 - acc: 0.7409 - val_loss: 0.6225 - val_acc: 0.7456\n",
      "Epoch 3/50\n",
      "40/40 [==============================] - 3s 83ms/step - loss: 0.5175 - acc: 0.7871 - val_loss: 0.5142 - val_acc: 0.8142\n",
      "Epoch 4/50\n",
      "40/40 [==============================] - 3s 76ms/step - loss: 0.4763 - acc: 0.7990 - val_loss: 0.4627 - val_acc: 0.8296\n",
      "Epoch 5/50\n",
      "40/40 [==============================] - 3s 76ms/step - loss: 0.4250 - acc: 0.8250 - val_loss: 0.4271 - val_acc: 0.8426\n",
      "Epoch 6/50\n",
      "40/40 [==============================] - 3s 75ms/step - loss: 0.4028 - acc: 0.8353 - val_loss: 0.4359 - val_acc: 0.8107\n",
      "Epoch 7/50\n",
      "40/40 [==============================] - 3s 76ms/step - loss: 0.3680 - acc: 0.8487 - val_loss: 0.3662 - val_acc: 0.8604\n",
      "Epoch 8/50\n",
      "40/40 [==============================] - 3s 76ms/step - loss: 0.3443 - acc: 0.8562 - val_loss: 0.3546 - val_acc: 0.8710\n",
      "Epoch 9/50\n",
      "40/40 [==============================] - 3s 81ms/step - loss: 0.3278 - acc: 0.8586 - val_loss: 0.3402 - val_acc: 0.8533\n",
      "Epoch 10/50\n",
      "40/40 [==============================] - 3s 79ms/step - loss: 0.3252 - acc: 0.8637 - val_loss: 0.3645 - val_acc: 0.8497\n",
      "Epoch 11/50\n",
      "40/40 [==============================] - 4s 103ms/step - loss: 0.2932 - acc: 0.8827 - val_loss: 0.3219 - val_acc: 0.8734\n",
      "Epoch 12/50\n",
      "40/40 [==============================] - 4s 91ms/step - loss: 0.2692 - acc: 0.8886 - val_loss: 0.2907 - val_acc: 0.8757\n",
      "Epoch 13/50\n",
      "40/40 [==============================] - 3s 86ms/step - loss: 0.2684 - acc: 0.8938 - val_loss: 0.2661 - val_acc: 0.8840\n",
      "Epoch 14/50\n",
      "40/40 [==============================] - 3s 85ms/step - loss: 0.2518 - acc: 0.8942 - val_loss: 0.2859 - val_acc: 0.8864\n",
      "Epoch 15/50\n",
      "40/40 [==============================] - 3s 83ms/step - loss: 0.2675 - acc: 0.8823 - val_loss: 0.2984 - val_acc: 0.8746\n",
      "Epoch 16/50\n",
      "40/40 [==============================] - 3s 86ms/step - loss: 0.2209 - acc: 0.9021 - val_loss: 0.2297 - val_acc: 0.9006\n",
      "Epoch 17/50\n",
      "40/40 [==============================] - 3s 86ms/step - loss: 0.2254 - acc: 0.9068 - val_loss: 0.2450 - val_acc: 0.8970\n",
      "Epoch 18/50\n",
      "40/40 [==============================] - 3s 82ms/step - loss: 0.2078 - acc: 0.9135 - val_loss: 0.1968 - val_acc: 0.9136\n",
      "Epoch 19/50\n",
      "40/40 [==============================] - 3s 81ms/step - loss: 0.2301 - acc: 0.9040 - val_loss: 0.2064 - val_acc: 0.9183\n",
      "Epoch 20/50\n",
      "40/40 [==============================] - 3s 79ms/step - loss: 0.2070 - acc: 0.9048 - val_loss: 0.1985 - val_acc: 0.9290\n",
      "Epoch 21/50\n",
      "40/40 [==============================] - 3s 75ms/step - loss: 0.2032 - acc: 0.9186 - val_loss: 0.2074 - val_acc: 0.9077\n",
      "Epoch 22/50\n",
      "40/40 [==============================] - 3s 76ms/step - loss: 0.1946 - acc: 0.9139 - val_loss: 0.1985 - val_acc: 0.9148\n",
      "Epoch 23/50\n",
      "40/40 [==============================] - 3s 75ms/step - loss: 0.1907 - acc: 0.9163 - val_loss: 0.1918 - val_acc: 0.9148\n",
      "Epoch 24/50\n",
      "40/40 [==============================] - 3s 76ms/step - loss: 0.1941 - acc: 0.9202 - val_loss: 0.1975 - val_acc: 0.9231\n",
      "Epoch 25/50\n",
      "40/40 [==============================] - 3s 75ms/step - loss: 0.1785 - acc: 0.9218 - val_loss: 0.2229 - val_acc: 0.9101\n",
      "Epoch 26/50\n",
      "40/40 [==============================] - 3s 76ms/step - loss: 0.1727 - acc: 0.9222 - val_loss: 0.1806 - val_acc: 0.9243\n",
      "Epoch 27/50\n",
      "40/40 [==============================] - 3s 76ms/step - loss: 0.1780 - acc: 0.9218 - val_loss: 0.1898 - val_acc: 0.9254\n",
      "Epoch 28/50\n",
      "40/40 [==============================] - 3s 77ms/step - loss: 0.1501 - acc: 0.9364 - val_loss: 0.1887 - val_acc: 0.9160\n",
      "Epoch 29/50\n",
      "40/40 [==============================] - 3s 75ms/step - loss: 0.1530 - acc: 0.9340 - val_loss: 0.1579 - val_acc: 0.9302\n",
      "Epoch 30/50\n",
      "40/40 [==============================] - 3s 76ms/step - loss: 0.1942 - acc: 0.9163 - val_loss: 0.1965 - val_acc: 0.9243\n",
      "Epoch 31/50\n",
      "40/40 [==============================] - 3s 74ms/step - loss: 0.1670 - acc: 0.9352 - val_loss: 0.2209 - val_acc: 0.9041\n",
      "Epoch 32/50\n",
      "40/40 [==============================] - 3s 75ms/step - loss: 0.1562 - acc: 0.9317 - val_loss: 0.1849 - val_acc: 0.9172\n",
      "Epoch 33/50\n",
      "40/40 [==============================] - 3s 76ms/step - loss: 0.1484 - acc: 0.9376 - val_loss: 0.1906 - val_acc: 0.9254\n",
      "Epoch 34/50\n",
      "40/40 [==============================] - 3s 75ms/step - loss: 0.1516 - acc: 0.9384 - val_loss: 0.1638 - val_acc: 0.9349\n",
      "Epoch 35/50\n",
      "40/40 [==============================] - 3s 75ms/step - loss: 0.1727 - acc: 0.9285 - val_loss: 0.1740 - val_acc: 0.9172\n",
      "Epoch 36/50\n",
      "40/40 [==============================] - 3s 75ms/step - loss: 0.1533 - acc: 0.9352 - val_loss: 0.1597 - val_acc: 0.9278\n",
      "Epoch 37/50\n",
      "40/40 [==============================] - 3s 75ms/step - loss: 0.1418 - acc: 0.9317 - val_loss: 0.1471 - val_acc: 0.9444\n",
      "Epoch 38/50\n",
      "40/40 [==============================] - 3s 79ms/step - loss: 0.1512 - acc: 0.9344 - val_loss: 0.2002 - val_acc: 0.9172\n",
      "Epoch 39/50\n",
      "40/40 [==============================] - 3s 78ms/step - loss: 0.1447 - acc: 0.9415 - val_loss: 0.1723 - val_acc: 0.9243\n",
      "Epoch 40/50\n",
      "40/40 [==============================] - 3s 76ms/step - loss: 0.1376 - acc: 0.9408 - val_loss: 0.1812 - val_acc: 0.9219\n",
      "Epoch 41/50\n",
      "40/40 [==============================] - 5s 117ms/step - loss: 0.1241 - acc: 0.9423 - val_loss: 0.1691 - val_acc: 0.9231\n",
      "Epoch 42/50\n",
      "40/40 [==============================] - 5s 116ms/step - loss: 0.1689 - acc: 0.9265 - val_loss: 0.1916 - val_acc: 0.9160\n",
      "Epoch 43/50\n",
      "40/40 [==============================] - 3s 84ms/step - loss: 0.1418 - acc: 0.9368 - val_loss: 0.1727 - val_acc: 0.9243\n",
      "Epoch 44/50\n",
      "40/40 [==============================] - 4s 97ms/step - loss: 0.1418 - acc: 0.9427 - val_loss: 0.1611 - val_acc: 0.9302\n",
      "Epoch 45/50\n",
      "40/40 [==============================] - 4s 90ms/step - loss: 0.1346 - acc: 0.9400 - val_loss: 0.1379 - val_acc: 0.9467\n",
      "Epoch 46/50\n",
      "40/40 [==============================] - 4s 109ms/step - loss: 0.1243 - acc: 0.9463 - val_loss: 0.1316 - val_acc: 0.9325\n",
      "Epoch 47/50\n",
      "40/40 [==============================] - 5s 123ms/step - loss: 0.1135 - acc: 0.9506 - val_loss: 0.1264 - val_acc: 0.9467\n",
      "Epoch 48/50\n",
      "40/40 [==============================] - 5s 127ms/step - loss: 0.1295 - acc: 0.9427 - val_loss: 0.1465 - val_acc: 0.9420\n",
      "Epoch 49/50\n",
      "40/40 [==============================] - 5s 123ms/step - loss: 0.1388 - acc: 0.9459 - val_loss: 0.1247 - val_acc: 0.9538\n",
      "Epoch 50/50\n",
      "40/40 [==============================] - 5s 122ms/step - loss: 0.1040 - acc: 0.9570 - val_loss: 0.1225 - val_acc: 0.9408\n"
     ]
    }
   ],
   "source": [
    "# ------ Train CNN using 3D feature--------------------------------------------\n",
    "history = model.fit(x3D_train, y3D_train, epochs=50, batch_size=64,validation_data=(x3D_test, y3D_test))"
   ]
  },
  {
   "cell_type": "code",
   "execution_count": 58,
   "metadata": {},
   "outputs": [
    {
     "name": "stdout",
     "output_type": "stream",
     "text": [
      "27/27 [==============================] - 0s 11ms/step\n"
     ]
    }
   ],
   "source": [
    "# ------- Test CNN -------------------------------\n",
    "CNN_pred = np.argmax(model.predict(x3D_test),axis=1)"
   ]
  },
  {
   "cell_type": "markdown",
   "metadata": {},
   "source": [
    "### Performance of CNN Model"
   ]
  },
  {
   "cell_type": "code",
   "execution_count": 59,
   "metadata": {},
   "outputs": [
    {
     "name": "stdout",
     "output_type": "stream",
     "text": [
      "----- Confusion matrix of NN -----\n",
      "[[126   0   5   0   0]\n",
      " [  6  33  15   0   0]\n",
      " [  1   0 262   4   9]\n",
      " [  1   0   5 217   0]\n",
      " [  0   0   5   0 156]]\n",
      "----- Classification matrix of NN -----\n",
      "              precision    recall  f1-score   support\n",
      "\n",
      "         0.0       0.94      0.96      0.95       131\n",
      "         1.0       1.00      0.61      0.76        54\n",
      "         2.0       0.90      0.95      0.92       276\n",
      "         3.0       0.98      0.97      0.98       223\n",
      "         5.0       0.95      0.97      0.96       161\n",
      "\n",
      "    accuracy                           0.94       845\n",
      "   macro avg       0.95      0.89      0.91       845\n",
      "weighted avg       0.94      0.94      0.94       845\n",
      "\n"
     ]
    }
   ],
   "source": [
    "# ------------ View Confusion Matrix, Classification Report -------------------------------\n",
    "print('----- Confusion matrix of NN -----')\n",
    "print(confusion_matrix(y3D_test,CNN_pred))\n",
    "print('----- Classification matrix of NN -----')\n",
    "print(classification_report(y3D_test,CNN_pred))"
   ]
  },
  {
   "cell_type": "code",
   "execution_count": null,
   "metadata": {},
   "outputs": [],
   "source": []
  },
  {
   "cell_type": "code",
   "execution_count": 60,
   "metadata": {},
   "outputs": [
    {
     "data": {
      "image/png": "[encoded data removed]",
      "text/plain": [
       "<Figure size 640x480 with 1 Axes>"
      ]
     },
     "metadata": {},
     "output_type": "display_data"
    },
    {
     "data": {
      "image/png": "[encoded data removed]",
      "text/plain": [
       "<Figure size 640x480 with 1 Axes>"
      ]
     },
     "metadata": {},
     "output_type": "display_data"
    }
   ],
   "source": [
    "# ------ View History Graph -------------------------------------------\n",
    "# View Accuracy Graph\n",
    "# summarize history for accuracy\n",
    "plt.plot(history.history['acc'])\n",
    "plt.plot(history.history['val_acc'])\n",
    "plt.show()\n",
    "# View Loss Graph\n",
    "# summarize history for loss\n",
    "plt.plot(history.history['loss'])\n",
    "plt.plot(history.history['val_loss'])\n",
    "plt.show()"
   ]
  }
 ],
 "metadata": {
  "kernelspec": {
   "display_name": "Python 3.10.6 64-bit",
   "language": "python",
   "name": "python3"
  },
  "language_info": {
   "codemirror_mode": {
    "name": "ipython",
    "version": 3
   },
   "file_extension": ".py",
   "mimetype": "text/x-python",
   "name": "python",
   "nbconvert_exporter": "python",
   "pygments_lexer": "ipython3",
   "version": "3.10.6"
  },
  "orig_nbformat": 4,
  "vscode": {
   "interpreter": {
    "hash": "c63e27dbf4058baa09756b862f12d3996c103635a294c45d4ef23381d89563d2"
   }
  }
 },
 "nbformat": 4,
 "nbformat_minor": 2
}
